{
  "nbformat": 4,
  "nbformat_minor": 0,
  "metadata": {
    "colab": {
      "name": "Session_11_CIFAR_ocp.ipynb",
      "provenance": [],
      "collapsed_sections": [],
      "include_colab_link": true
    },
    "kernelspec": {
      "name": "python3",
      "display_name": "Python 3"
    },
    "accelerator": "GPU"
  },
  "cells": [
    {
      "cell_type": "markdown",
      "metadata": {
        "id": "view-in-github",
        "colab_type": "text"
      },
      "source": [
        "<a href=\"https://colab.research.google.com/github/bikash-bhoi/EIP4/blob/master/Session11/Session_11_CIFAR_ocp.ipynb\" target=\"_parent\"><img src=\"https://colab.research.google.com/assets/colab-badge.svg\" alt=\"Open In Colab\"/></a>"
      ]
    },
    {
      "cell_type": "markdown",
      "metadata": {
        "id": "zwcC29-mHU7H",
        "colab_type": "text"
      },
      "source": [
        ""
      ]
    },
    {
      "cell_type": "code",
      "metadata": {
        "id": "-g7ee78QSLcf",
        "colab_type": "code",
        "outputId": "c55cc5ca-6f39-4ab0-b197-48b284cf4df9",
        "colab": {
          "base_uri": "https://localhost:8080/",
          "height": 34
        }
      },
      "source": [
        "##Clone Github Directory to import packages\n",
        "%%bash\n",
        "mkdir temp\n",
        "git clone https://github.com/bikash-bhoi/eva4.git temp\n",
        "if [ ! -d ./models ]; then\n",
        "    mkdir models\n",
        "fi\n",
        "if [ ! -d ./utils ]; then\n",
        "    mkdir utils\n",
        "fi\n",
        "cp -r temp/models/* ./models\n",
        "cp -r temp/utils/* ./utils\n",
        "rm -rf temp"
      ],
      "execution_count": 1,
      "outputs": [
        {
          "output_type": "stream",
          "text": [
            "Cloning into 'temp'...\n"
          ],
          "name": "stderr"
        }
      ]
    },
    {
      "cell_type": "code",
      "metadata": {
        "id": "f5jmWLvznBDR",
        "colab_type": "code",
        "colab": {}
      },
      "source": [
        "!pip install pytorch-gradcam\n",
        "!pip install albumentations\n",
        "!pip install --no-cache-dir git+https://github.com/NVIDIA/apex"
      ],
      "execution_count": 0,
      "outputs": []
    },
    {
      "cell_type": "code",
      "metadata": {
        "id": "QAMhoRfM-4nX",
        "colab_type": "code",
        "colab": {}
      },
      "source": [
        "from utils.download_load import download_load\n",
        "from utils.display_imgs import display_imgs\n",
        "from utils.train_test import train , test, predict, get_misclassified\n",
        "from utils.disp_summary import disp_summary\n",
        "from utils.gradcam import grad_cam, gradcam_plot\n",
        "from models.custom_resnet import cust_resnet\n",
        "from utils.range_test import lr_range_test\n",
        "\n",
        "import torch.optim as optim\n",
        "from torch.optim.lr_scheduler import ReduceLROnPlateau, OneCycleLR\n",
        "import torch.nn as nn\n",
        "import torch.nn.functional as F\n",
        "import torch.optim as optim\n",
        "from torchvision import datasets, transforms\n",
        "import matplotlib.pyplot as plt\n",
        "#%matplotlib inline\n",
        "import numpy as np\n",
        "import torchvision\n",
        "import torchsummary\n",
        "from torchsummary import summary\n",
        "import torch"
      ],
      "execution_count": 0,
      "outputs": []
    },
    {
      "cell_type": "code",
      "metadata": {
        "id": "GI_r1Qto8Tc_",
        "colab_type": "code",
        "outputId": "d210d2ea-25dd-4b29-cec5-4c4d37dd8fdb",
        "colab": {
          "base_uri": "https://localhost:8080/",
          "height": 68
        }
      },
      "source": [
        "trainset, testset, train_loader, test_loader, classes =download_load(train_bs=512,test_bs=512)"
      ],
      "execution_count": 3,
      "outputs": [
        {
          "output_type": "stream",
          "text": [
            "CUDA Available? True\n",
            "Files already downloaded and verified\n",
            "Files already downloaded and verified\n"
          ],
          "name": "stdout"
        }
      ]
    },
    {
      "cell_type": "code",
      "metadata": {
        "id": "SNt_vdbEoMln",
        "colab_type": "code",
        "colab": {}
      },
      "source": [
        "display_imgs(train_loader, classes)"
      ],
      "execution_count": 0,
      "outputs": []
    },
    {
      "cell_type": "code",
      "metadata": {
        "id": "7Ays4k29NzQT",
        "colab_type": "code",
        "colab": {}
      },
      "source": [
        "use_cuda= torch.cuda.is_available()\n",
        "device=torch.device('cuda' if use_cuda else 'cpu')\n",
        "model=cust_resnet().to(device)"
      ],
      "execution_count": 0,
      "outputs": []
    },
    {
      "cell_type": "code",
      "metadata": {
        "id": "-f6-gJxyOM7t",
        "colab_type": "code",
        "outputId": "f0af8b8d-7c3a-4fba-86f5-fc3c8085933d",
        "colab": {
          "base_uri": "https://localhost:8080/",
          "height": 765
        }
      },
      "source": [
        "disp_summary(model)"
      ],
      "execution_count": 5,
      "outputs": [
        {
          "output_type": "stream",
          "text": [
            "----------------------------------------------------------------\n",
            "        Layer (type)               Output Shape         Param #\n",
            "================================================================\n",
            "            Conv2d-1           [-1, 64, 32, 32]           1,728\n",
            "       BatchNorm2d-2           [-1, 64, 32, 32]             128\n",
            "              ReLU-3           [-1, 64, 32, 32]               0\n",
            "            Conv2d-4          [-1, 128, 32, 32]          73,728\n",
            "         MaxPool2d-5          [-1, 128, 16, 16]               0\n",
            "       BatchNorm2d-6          [-1, 128, 16, 16]             256\n",
            "              ReLU-7          [-1, 128, 16, 16]               0\n",
            "            Conv2d-8          [-1, 128, 16, 16]         147,456\n",
            "       BatchNorm2d-9          [-1, 128, 16, 16]             256\n",
            "             ReLU-10          [-1, 128, 16, 16]               0\n",
            "           Conv2d-11          [-1, 128, 16, 16]         147,456\n",
            "      BatchNorm2d-12          [-1, 128, 16, 16]             256\n",
            "             ReLU-13          [-1, 128, 16, 16]               0\n",
            "           Conv2d-14          [-1, 256, 16, 16]         294,912\n",
            "        MaxPool2d-15            [-1, 256, 8, 8]               0\n",
            "      BatchNorm2d-16            [-1, 256, 8, 8]             512\n",
            "             ReLU-17            [-1, 256, 8, 8]               0\n",
            "           Conv2d-18            [-1, 512, 8, 8]       1,179,648\n",
            "        MaxPool2d-19            [-1, 512, 4, 4]               0\n",
            "      BatchNorm2d-20            [-1, 512, 4, 4]           1,024\n",
            "             ReLU-21            [-1, 512, 4, 4]               0\n",
            "           Conv2d-22            [-1, 512, 4, 4]       2,359,296\n",
            "      BatchNorm2d-23            [-1, 512, 4, 4]           1,024\n",
            "             ReLU-24            [-1, 512, 4, 4]               0\n",
            "           Conv2d-25            [-1, 512, 4, 4]       2,359,296\n",
            "      BatchNorm2d-26            [-1, 512, 4, 4]           1,024\n",
            "             ReLU-27            [-1, 512, 4, 4]               0\n",
            "        MaxPool2d-28            [-1, 512, 1, 1]               0\n",
            "           Conv2d-29             [-1, 10, 1, 1]           5,120\n",
            "================================================================\n",
            "Total params: 6,573,120\n",
            "Trainable params: 6,573,120\n",
            "Non-trainable params: 0\n",
            "----------------------------------------------------------------\n",
            "Input size (MB): 0.01\n",
            "Forward/backward pass size (MB): 6.44\n",
            "Params size (MB): 25.07\n",
            "Estimated Total Size (MB): 31.53\n",
            "----------------------------------------------------------------\n"
          ],
          "name": "stdout"
        },
        {
          "output_type": "stream",
          "text": [
            "/content/models/custom_resnet.py:74: UserWarning: Implicit dimension choice for log_softmax has been deprecated. Change the call to include dim=X as an argument.\n",
            "  x=F.log_softmax(x)\n"
          ],
          "name": "stderr"
        }
      ]
    },
    {
      "cell_type": "code",
      "metadata": {
        "id": "2CZTHNLGLGh9",
        "colab_type": "code",
        "outputId": "de7a080f-0a9f-4ad7-8654-c04e309ff172",
        "colab": {
          "base_uri": "https://localhost:8080/",
          "height": 1000
        }
      },
      "source": [
        "lrs = [j*(10**i) for i in range(-3,-1) for j in range(1,11)]\n",
        "lr_range_test(lrs,model,device,train_loader, test_loader)\n"
      ],
      "execution_count": 6,
      "outputs": [
        {
          "output_type": "stream",
          "text": [
            "\r  0%|          | 0/98 [00:00<?, ?it/s]"
          ],
          "name": "stderr"
        },
        {
          "output_type": "stream",
          "text": [
            "LR: 0.0001\n"
          ],
          "name": "stdout"
        },
        {
          "output_type": "stream",
          "text": [
            "/content/models/custom_resnet.py:74: UserWarning: Implicit dimension choice for log_softmax has been deprecated. Change the call to include dim=X as an argument.\n",
            "  x=F.log_softmax(x)\n",
            "Loss=2.0010743141174316 Batch_id=97 Accuracy=22.09: 100%|██████████| 98/98 [00:29<00:00,  3.30it/s]\n",
            "  0%|          | 0/98 [00:00<?, ?it/s]"
          ],
          "name": "stderr"
        },
        {
          "output_type": "stream",
          "text": [
            "\n",
            "Test set: Average loss: 1.8781, Accuracy: 3225/10000 (32.25%)\n",
            "\n",
            "LR: 0.0002\n"
          ],
          "name": "stdout"
        },
        {
          "output_type": "stream",
          "text": [
            "Loss=1.9040861129760742 Batch_id=97 Accuracy=24.85: 100%|██████████| 98/98 [00:30<00:00,  3.24it/s]\n",
            "  0%|          | 0/98 [00:00<?, ?it/s]"
          ],
          "name": "stderr"
        },
        {
          "output_type": "stream",
          "text": [
            "\n",
            "Test set: Average loss: 1.7576, Accuracy: 3703/10000 (37.03%)\n",
            "\n",
            "LR: 0.00030000000000000003\n"
          ],
          "name": "stdout"
        },
        {
          "output_type": "stream",
          "text": [
            "Loss=1.8074438571929932 Batch_id=97 Accuracy=28.15: 100%|██████████| 98/98 [00:30<00:00,  3.22it/s]\n",
            "  0%|          | 0/98 [00:00<?, ?it/s]"
          ],
          "name": "stderr"
        },
        {
          "output_type": "stream",
          "text": [
            "\n",
            "Test set: Average loss: 1.6248, Accuracy: 4143/10000 (41.43%)\n",
            "\n",
            "LR: 0.0004\n"
          ],
          "name": "stdout"
        },
        {
          "output_type": "stream",
          "text": [
            "Loss=1.6605349779129028 Batch_id=97 Accuracy=29.42: 100%|██████████| 98/98 [00:30<00:00,  3.21it/s]\n",
            "  0%|          | 0/98 [00:00<?, ?it/s]"
          ],
          "name": "stderr"
        },
        {
          "output_type": "stream",
          "text": [
            "\n",
            "Test set: Average loss: 1.5694, Accuracy: 4289/10000 (42.89%)\n",
            "\n",
            "LR: 0.0005\n"
          ],
          "name": "stdout"
        },
        {
          "output_type": "stream",
          "text": [
            "Loss=1.6245641708374023 Batch_id=97 Accuracy=30.56: 100%|██████████| 98/98 [00:30<00:00,  3.23it/s]\n",
            "  0%|          | 0/98 [00:00<?, ?it/s]"
          ],
          "name": "stderr"
        },
        {
          "output_type": "stream",
          "text": [
            "\n",
            "Test set: Average loss: 1.5289, Accuracy: 4509/10000 (45.09%)\n",
            "\n",
            "LR: 0.0006000000000000001\n"
          ],
          "name": "stdout"
        },
        {
          "output_type": "stream",
          "text": [
            "Loss=1.5735678672790527 Batch_id=97 Accuracy=31.46: 100%|██████████| 98/98 [00:30<00:00,  3.21it/s]\n",
            "  0%|          | 0/98 [00:00<?, ?it/s]"
          ],
          "name": "stderr"
        },
        {
          "output_type": "stream",
          "text": [
            "\n",
            "Test set: Average loss: 1.4821, Accuracy: 4644/10000 (46.44%)\n",
            "\n",
            "LR: 0.0007\n"
          ],
          "name": "stdout"
        },
        {
          "output_type": "stream",
          "text": [
            "Loss=1.540835976600647 Batch_id=97 Accuracy=32.69: 100%|██████████| 98/98 [00:30<00:00,  3.22it/s]\n",
            "  0%|          | 0/98 [00:00<?, ?it/s]"
          ],
          "name": "stderr"
        },
        {
          "output_type": "stream",
          "text": [
            "\n",
            "Test set: Average loss: 1.4789, Accuracy: 4639/10000 (46.39%)\n",
            "\n",
            "LR: 0.0008\n"
          ],
          "name": "stdout"
        },
        {
          "output_type": "stream",
          "text": [
            "Loss=1.5577157735824585 Batch_id=97 Accuracy=33.22: 100%|██████████| 98/98 [00:30<00:00,  3.21it/s]\n",
            "  0%|          | 0/98 [00:00<?, ?it/s]"
          ],
          "name": "stderr"
        },
        {
          "output_type": "stream",
          "text": [
            "\n",
            "Test set: Average loss: 1.4442, Accuracy: 4767/10000 (47.67%)\n",
            "\n",
            "LR: 0.0009000000000000001\n"
          ],
          "name": "stdout"
        },
        {
          "output_type": "stream",
          "text": [
            "Loss=1.5588968992233276 Batch_id=97 Accuracy=34.75: 100%|██████████| 98/98 [00:30<00:00,  3.17it/s]\n",
            "  0%|          | 0/98 [00:00<?, ?it/s]"
          ],
          "name": "stderr"
        },
        {
          "output_type": "stream",
          "text": [
            "\n",
            "Test set: Average loss: 1.4223, Accuracy: 4865/10000 (48.65%)\n",
            "\n",
            "LR: 0.001\n"
          ],
          "name": "stdout"
        },
        {
          "output_type": "stream",
          "text": [
            "Loss=1.4929717779159546 Batch_id=97 Accuracy=34.22: 100%|██████████| 98/98 [00:30<00:00,  3.18it/s]\n",
            "  0%|          | 0/98 [00:00<?, ?it/s]"
          ],
          "name": "stderr"
        },
        {
          "output_type": "stream",
          "text": [
            "\n",
            "Test set: Average loss: 1.4102, Accuracy: 4927/10000 (49.27%)\n",
            "\n",
            "LR: 0.001\n"
          ],
          "name": "stdout"
        },
        {
          "output_type": "stream",
          "text": [
            "Loss=1.4844980239868164 Batch_id=97 Accuracy=34.66: 100%|██████████| 98/98 [00:30<00:00,  3.19it/s]\n",
            "  0%|          | 0/98 [00:00<?, ?it/s]"
          ],
          "name": "stderr"
        },
        {
          "output_type": "stream",
          "text": [
            "\n",
            "Test set: Average loss: 1.4178, Accuracy: 4848/10000 (48.48%)\n",
            "\n",
            "LR: 0.002\n"
          ],
          "name": "stdout"
        },
        {
          "output_type": "stream",
          "text": [
            "Loss=1.4111530780792236 Batch_id=97 Accuracy=38.35: 100%|██████████| 98/98 [00:30<00:00,  3.19it/s]\n",
            "  0%|          | 0/98 [00:00<?, ?it/s]"
          ],
          "name": "stderr"
        },
        {
          "output_type": "stream",
          "text": [
            "\n",
            "Test set: Average loss: 1.3242, Accuracy: 5317/10000 (53.17%)\n",
            "\n",
            "LR: 0.003\n"
          ],
          "name": "stdout"
        },
        {
          "output_type": "stream",
          "text": [
            "Loss=1.3819968700408936 Batch_id=97 Accuracy=38.95: 100%|██████████| 98/98 [00:30<00:00,  3.21it/s]\n",
            "  0%|          | 0/98 [00:00<?, ?it/s]"
          ],
          "name": "stderr"
        },
        {
          "output_type": "stream",
          "text": [
            "\n",
            "Test set: Average loss: 1.3017, Accuracy: 5370/10000 (53.70%)\n",
            "\n",
            "LR: 0.004\n"
          ],
          "name": "stdout"
        },
        {
          "output_type": "stream",
          "text": [
            "Loss=1.6310272216796875 Batch_id=97 Accuracy=36.73: 100%|██████████| 98/98 [00:30<00:00,  3.20it/s]\n",
            "  0%|          | 0/98 [00:00<?, ?it/s]"
          ],
          "name": "stderr"
        },
        {
          "output_type": "stream",
          "text": [
            "\n",
            "Test set: Average loss: 1.4123, Accuracy: 5098/10000 (50.98%)\n",
            "\n",
            "LR: 0.005\n"
          ],
          "name": "stdout"
        },
        {
          "output_type": "stream",
          "text": [
            "Loss=1.4135854244232178 Batch_id=97 Accuracy=38.01: 100%|██████████| 98/98 [00:30<00:00,  3.18it/s]\n",
            "  0%|          | 0/98 [00:00<?, ?it/s]"
          ],
          "name": "stderr"
        },
        {
          "output_type": "stream",
          "text": [
            "\n",
            "Test set: Average loss: 1.2595, Accuracy: 5525/10000 (55.25%)\n",
            "\n",
            "LR: 0.006\n"
          ],
          "name": "stdout"
        },
        {
          "output_type": "stream",
          "text": [
            "Loss=1.4774775505065918 Batch_id=97 Accuracy=35.48: 100%|██████████| 98/98 [00:30<00:00,  3.19it/s]\n",
            "  0%|          | 0/98 [00:00<?, ?it/s]"
          ],
          "name": "stderr"
        },
        {
          "output_type": "stream",
          "text": [
            "\n",
            "Test set: Average loss: 1.4946, Accuracy: 4735/10000 (47.35%)\n",
            "\n",
            "LR: 0.007000000000000001\n"
          ],
          "name": "stdout"
        },
        {
          "output_type": "stream",
          "text": [
            "Loss=1.5869649648666382 Batch_id=97 Accuracy=31.23: 100%|██████████| 98/98 [00:30<00:00,  3.17it/s]\n",
            "  0%|          | 0/98 [00:00<?, ?it/s]"
          ],
          "name": "stderr"
        },
        {
          "output_type": "stream",
          "text": [
            "\n",
            "Test set: Average loss: 1.6465, Accuracy: 4147/10000 (41.47%)\n",
            "\n",
            "LR: 0.008\n"
          ],
          "name": "stdout"
        },
        {
          "output_type": "stream",
          "text": [
            "Loss=1.68179190158844 Batch_id=97 Accuracy=27.34: 100%|██████████| 98/98 [00:30<00:00,  3.16it/s]\n",
            "  0%|          | 0/98 [00:00<?, ?it/s]"
          ],
          "name": "stderr"
        },
        {
          "output_type": "stream",
          "text": [
            "\n",
            "Test set: Average loss: 1.7066, Accuracy: 4011/10000 (40.11%)\n",
            "\n",
            "LR: 0.009\n"
          ],
          "name": "stdout"
        },
        {
          "output_type": "stream",
          "text": [
            "Loss=1.6775075197219849 Batch_id=97 Accuracy=26.96: 100%|██████████| 98/98 [00:31<00:00,  3.15it/s]\n",
            "  0%|          | 0/98 [00:00<?, ?it/s]"
          ],
          "name": "stderr"
        },
        {
          "output_type": "stream",
          "text": [
            "\n",
            "Test set: Average loss: 1.6585, Accuracy: 4079/10000 (40.79%)\n",
            "\n",
            "LR: 0.01\n"
          ],
          "name": "stdout"
        },
        {
          "output_type": "stream",
          "text": [
            "Loss=1.9704538583755493 Batch_id=97 Accuracy=23.24: 100%|██████████| 98/98 [00:30<00:00,  3.16it/s]\n"
          ],
          "name": "stderr"
        },
        {
          "output_type": "stream",
          "text": [
            "\n",
            "Test set: Average loss: 2.1591, Accuracy: 3432/10000 (34.32%)\n",
            "\n"
          ],
          "name": "stdout"
        },
        {
          "output_type": "display_data",
          "data": {
            "image/png": "[encoded data removed]",
            "text/plain": [
              "<Figure size 720x576 with 1 Axes>"
            ]
          },
          "metadata": {
            "tags": [],
            "needs_background": "light"
          }
        },
        {
          "output_type": "stream",
          "text": [
            "LRs used for range  test :  [0.001, 0.002, 0.003, 0.004, 0.005, 0.006, 0.007, 0.008, 0.009000000000000001, 0.01, 0.01, 0.02, 0.03, 0.04, 0.05, 0.06, 0.07, 0.08, 0.09, 0.1]\n",
            "Train Accuracies :  [22.092, 24.848, 28.148, 29.42, 30.56, 31.464, 32.692, 33.216, 34.754, 34.218, 34.656, 38.35, 38.952, 36.73, 38.006, 35.484, 31.23, 27.344, 26.964, 23.24]\n",
            "Test acc:  38.952 LR:  0.03\n"
          ],
          "name": "stdout"
        }
      ]
    },
    {
      "cell_type": "code",
      "metadata": {
        "id": "xQ7c7UTxOPJn",
        "colab_type": "code",
        "outputId": "d3d8b9f7-2849-45b5-b3c0-fc075dac317b",
        "colab": {
          "base_uri": "https://localhost:8080/",
          "height": 1000
        }
      },
      "source": [
        "device= 'cuda' if torch.cuda.is_available() else 'cpu'\n",
        "model = cust_resnet().to(device)\n",
        "optimizer = optim.SGD(model.parameters(), lr=0.01,  momentum=0.9)\n",
        "scheduler = OneCycleLR(optimizer, max_lr=0.03,  total_steps=24,pct_start=0.2083, final_div_factor=1, div_factor=10)\n",
        "lrs=[]\n",
        "\n",
        "for epoch in range(1, 25):\n",
        "    curr_lr=optimizer.param_groups[0]['lr']\n",
        "    lrs.append(curr_lr)\n",
        "    print(f'Epoch: {epoch} Learning_Rate {curr_lr}')\n",
        "    train_acc1 = train(model, device, train_loader, optimizer, epoch)\n",
        "    test_acc1 = test(model, device, test_loader)\n",
        "    print('Test acc:', test_acc1)\n",
        "    scheduler.step()\n"
      ],
      "execution_count": 10,
      "outputs": [
        {
          "output_type": "stream",
          "text": [
            "\r  0%|          | 0/98 [00:00<?, ?it/s]"
          ],
          "name": "stderr"
        },
        {
          "output_type": "stream",
          "text": [
            "Epoch: 1 Learning_Rate 0.002999999999999999\n"
          ],
          "name": "stdout"
        },
        {
          "output_type": "stream",
          "text": [
            "/content/models/custom_resnet.py:74: UserWarning: Implicit dimension choice for log_softmax has been deprecated. Change the call to include dim=X as an argument.\n",
            "  x=F.log_softmax(x)\n",
            "Loss=1.3793246746063232 Batch_id=97 Accuracy=36.69: 100%|██████████| 98/98 [00:30<00:00,  3.21it/s]\n",
            "  0%|          | 0/98 [00:00<?, ?it/s]"
          ],
          "name": "stderr"
        },
        {
          "output_type": "stream",
          "text": [
            "\n",
            "Test set: Average loss: 1.2689, Accuracy: 5354/10000 (53.54%)\n",
            "\n",
            "Test acc: 53.54\n",
            "Epoch: 2 Learning_Rate 0.006955558344737111\n"
          ],
          "name": "stdout"
        },
        {
          "output_type": "stream",
          "text": [
            "Loss=1.3003016710281372 Batch_id=97 Accuracy=52.38: 100%|██████████| 98/98 [00:30<00:00,  3.19it/s]\n",
            "  0%|          | 0/98 [00:00<?, ?it/s]"
          ],
          "name": "stderr"
        },
        {
          "output_type": "stream",
          "text": [
            "\n",
            "Test set: Average loss: 1.2353, Accuracy: 5645/10000 (56.45%)\n",
            "\n",
            "Test acc: 56.45\n",
            "Epoch: 3 Learning_Rate 0.016504241998412234\n"
          ],
          "name": "stdout"
        },
        {
          "output_type": "stream",
          "text": [
            "Loss=1.0251619815826416 Batch_id=97 Accuracy=56.89: 100%|██████████| 98/98 [00:30<00:00,  3.22it/s]\n",
            "  0%|          | 0/98 [00:00<?, ?it/s]"
          ],
          "name": "stderr"
        },
        {
          "output_type": "stream",
          "text": [
            "\n",
            "Test set: Average loss: 1.0076, Accuracy: 6626/10000 (66.26%)\n",
            "\n",
            "Test acc: 66.26\n",
            "Epoch: 4 Learning_Rate 0.02605043980435138\n"
          ],
          "name": "stdout"
        },
        {
          "output_type": "stream",
          "text": [
            "Loss=0.8906236290931702 Batch_id=97 Accuracy=62.66: 100%|██████████| 98/98 [00:30<00:00,  3.17it/s]\n",
            "  0%|          | 0/98 [00:00<?, ?it/s]"
          ],
          "name": "stderr"
        },
        {
          "output_type": "stream",
          "text": [
            "\n",
            "Test set: Average loss: 0.9961, Accuracy: 6943/10000 (69.43%)\n",
            "\n",
            "Test acc: 69.43\n",
            "Epoch: 5 Learning_Rate 0.029999999881902766\n"
          ],
          "name": "stdout"
        },
        {
          "output_type": "stream",
          "text": [
            "Loss=0.9786694645881653 Batch_id=97 Accuracy=68.62: 100%|██████████| 98/98 [00:30<00:00,  3.19it/s]\n",
            "  0%|          | 0/98 [00:00<?, ?it/s]"
          ],
          "name": "stderr"
        },
        {
          "output_type": "stream",
          "text": [
            "\n",
            "Test set: Average loss: 0.8133, Accuracy: 7420/10000 (74.20%)\n",
            "\n",
            "Test acc: 74.2\n",
            "Epoch: 6 Learning_Rate 0.02981559904845503\n"
          ],
          "name": "stdout"
        },
        {
          "output_type": "stream",
          "text": [
            "Loss=0.9494925141334534 Batch_id=97 Accuracy=71.65: 100%|██████████| 98/98 [00:30<00:00,  3.18it/s]\n",
            "  0%|          | 0/98 [00:00<?, ?it/s]"
          ],
          "name": "stderr"
        },
        {
          "output_type": "stream",
          "text": [
            "\n",
            "Test set: Average loss: 0.8510, Accuracy: 7410/10000 (74.10%)\n",
            "\n",
            "Test acc: 74.1\n",
            "Epoch: 7 Learning_Rate 0.029268013899015125\n"
          ],
          "name": "stdout"
        },
        {
          "output_type": "stream",
          "text": [
            "Loss=0.8729277849197388 Batch_id=97 Accuracy=74.34: 100%|██████████| 98/98 [00:30<00:00,  3.18it/s]\n",
            "  0%|          | 0/98 [00:00<?, ?it/s]"
          ],
          "name": "stderr"
        },
        {
          "output_type": "stream",
          "text": [
            "\n",
            "Test set: Average loss: 0.6441, Accuracy: 8007/10000 (80.07%)\n",
            "\n",
            "Test acc: 80.07\n",
            "Epoch: 8 Learning_Rate 0.02837217987413087\n"
          ],
          "name": "stdout"
        },
        {
          "output_type": "stream",
          "text": [
            "Loss=0.7292106747627258 Batch_id=97 Accuracy=76.21: 100%|██████████| 98/98 [00:30<00:00,  3.20it/s]\n",
            "  0%|          | 0/98 [00:00<?, ?it/s]"
          ],
          "name": "stderr"
        },
        {
          "output_type": "stream",
          "text": [
            "\n",
            "Test set: Average loss: 0.5585, Accuracy: 8142/10000 (81.42%)\n",
            "\n",
            "Test acc: 81.42\n",
            "Epoch: 9 Learning_Rate 0.027152530937785864\n"
          ],
          "name": "stdout"
        },
        {
          "output_type": "stream",
          "text": [
            "Loss=0.6896645426750183 Batch_id=97 Accuracy=77.99: 100%|██████████| 98/98 [00:30<00:00,  3.16it/s]\n",
            "  0%|          | 0/98 [00:00<?, ?it/s]"
          ],
          "name": "stderr"
        },
        {
          "output_type": "stream",
          "text": [
            "\n",
            "Test set: Average loss: 0.5547, Accuracy: 8214/10000 (82.14%)\n",
            "\n",
            "Test acc: 82.14\n",
            "Epoch: 10 Learning_Rate 0.025642333138551056\n"
          ],
          "name": "stdout"
        },
        {
          "output_type": "stream",
          "text": [
            "Loss=0.5835291147232056 Batch_id=97 Accuracy=79.50: 100%|██████████| 98/98 [00:30<00:00,  3.17it/s]\n",
            "  0%|          | 0/98 [00:00<?, ?it/s]"
          ],
          "name": "stderr"
        },
        {
          "output_type": "stream",
          "text": [
            "\n",
            "Test set: Average loss: 0.4844, Accuracy: 8420/10000 (84.20%)\n",
            "\n",
            "Test acc: 84.2\n",
            "Epoch: 11 Learning_Rate 0.023882777274732408\n"
          ],
          "name": "stdout"
        },
        {
          "output_type": "stream",
          "text": [
            "Loss=0.49893873929977417 Batch_id=97 Accuracy=79.70: 100%|██████████| 98/98 [00:30<00:00,  3.18it/s]\n",
            "  0%|          | 0/98 [00:00<?, ?it/s]"
          ],
          "name": "stderr"
        },
        {
          "output_type": "stream",
          "text": [
            "\n",
            "Test set: Average loss: 0.5108, Accuracy: 8383/10000 (83.83%)\n",
            "\n",
            "Test acc: 83.83\n",
            "Epoch: 12 Learning_Rate 0.021921855411164964\n"
          ],
          "name": "stdout"
        },
        {
          "output_type": "stream",
          "text": [
            "Loss=0.5271540284156799 Batch_id=97 Accuracy=81.92: 100%|██████████| 98/98 [00:31<00:00,  3.15it/s]\n",
            "  0%|          | 0/98 [00:00<?, ?it/s]"
          ],
          "name": "stderr"
        },
        {
          "output_type": "stream",
          "text": [
            "\n",
            "Test set: Average loss: 0.4544, Accuracy: 8537/10000 (85.37%)\n",
            "\n",
            "Test acc: 85.37\n",
            "Epoch: 13 Learning_Rate 0.01981305189077181\n"
          ],
          "name": "stdout"
        },
        {
          "output_type": "stream",
          "text": [
            "Loss=0.48757070302963257 Batch_id=97 Accuracy=83.16: 100%|██████████| 98/98 [00:30<00:00,  3.18it/s]\n",
            "  0%|          | 0/98 [00:00<?, ?it/s]"
          ],
          "name": "stderr"
        },
        {
          "output_type": "stream",
          "text": [
            "\n",
            "Test set: Average loss: 0.4176, Accuracy: 8626/10000 (86.26%)\n",
            "\n",
            "Test acc: 86.26\n",
            "Epoch: 14 Learning_Rate 0.01761388454368051\n"
          ],
          "name": "stdout"
        },
        {
          "output_type": "stream",
          "text": [
            "Loss=0.4580290615558624 Batch_id=97 Accuracy=83.26: 100%|██████████| 98/98 [00:30<00:00,  3.20it/s]\n",
            "  0%|          | 0/98 [00:00<?, ?it/s]"
          ],
          "name": "stderr"
        },
        {
          "output_type": "stream",
          "text": [
            "\n",
            "Test set: Average loss: 0.4318, Accuracy: 8593/10000 (85.93%)\n",
            "\n",
            "Test acc: 85.93\n",
            "Epoch: 15 Learning_Rate 0.01538433588256656\n"
          ],
          "name": "stdout"
        },
        {
          "output_type": "stream",
          "text": [
            "Loss=0.444222629070282 Batch_id=97 Accuracy=84.34: 100%|██████████| 98/98 [00:31<00:00,  3.15it/s]\n",
            "  0%|          | 0/98 [00:00<?, ?it/s]"
          ],
          "name": "stderr"
        },
        {
          "output_type": "stream",
          "text": [
            "\n",
            "Test set: Average loss: 0.4384, Accuracy: 8623/10000 (86.23%)\n",
            "\n",
            "Test acc: 86.23\n",
            "Epoch: 16 Learning_Rate 0.01318521707353006\n"
          ],
          "name": "stdout"
        },
        {
          "output_type": "stream",
          "text": [
            "Loss=0.39134088158607483 Batch_id=97 Accuracy=85.65: 100%|██████████| 98/98 [00:30<00:00,  3.17it/s]\n",
            "  0%|          | 0/98 [00:00<?, ?it/s]"
          ],
          "name": "stderr"
        },
        {
          "output_type": "stream",
          "text": [
            "\n",
            "Test set: Average loss: 0.4382, Accuracy: 8604/10000 (86.04%)\n",
            "\n",
            "Test acc: 86.04\n",
            "Epoch: 17 Learning_Rate 0.011076509305366113\n"
          ],
          "name": "stdout"
        },
        {
          "output_type": "stream",
          "text": [
            "Loss=0.4018968343734741 Batch_id=97 Accuracy=85.98: 100%|██████████| 98/98 [00:31<00:00,  3.14it/s]\n",
            "  0%|          | 0/98 [00:00<?, ?it/s]"
          ],
          "name": "stderr"
        },
        {
          "output_type": "stream",
          "text": [
            "\n",
            "Test set: Average loss: 0.3829, Accuracy: 8784/10000 (87.84%)\n",
            "\n",
            "Test acc: 87.84\n",
            "Epoch: 18 Learning_Rate 0.009115727796550531\n"
          ],
          "name": "stdout"
        },
        {
          "output_type": "stream",
          "text": [
            "Loss=0.4141755700111389 Batch_id=97 Accuracy=86.71: 100%|██████████| 98/98 [00:31<00:00,  3.14it/s]\n",
            "  0%|          | 0/98 [00:00<?, ?it/s]"
          ],
          "name": "stderr"
        },
        {
          "output_type": "stream",
          "text": [
            "\n",
            "Test set: Average loss: 0.3437, Accuracy: 8870/10000 (88.70%)\n",
            "\n",
            "Test acc: 88.7\n",
            "Epoch: 19 Learning_Rate 0.007356353061816279\n"
          ],
          "name": "stdout"
        },
        {
          "output_type": "stream",
          "text": [
            "Loss=0.3709797263145447 Batch_id=97 Accuracy=87.78: 100%|██████████| 98/98 [00:30<00:00,  3.16it/s]\n",
            "  0%|          | 0/98 [00:00<?, ?it/s]"
          ],
          "name": "stderr"
        },
        {
          "output_type": "stream",
          "text": [
            "\n",
            "Test set: Average loss: 0.3333, Accuracy: 8890/10000 (88.90%)\n",
            "\n",
            "Test acc: 88.9\n",
            "Epoch: 20 Learning_Rate 0.005846372225684242\n"
          ],
          "name": "stdout"
        },
        {
          "output_type": "stream",
          "text": [
            "Loss=0.41547590494155884 Batch_id=97 Accuracy=87.97: 100%|██████████| 98/98 [00:30<00:00,  3.17it/s]\n",
            "  0%|          | 0/98 [00:00<?, ?it/s]"
          ],
          "name": "stderr"
        },
        {
          "output_type": "stream",
          "text": [
            "\n",
            "Test set: Average loss: 0.3327, Accuracy: 8916/10000 (89.16%)\n",
            "\n",
            "Test acc: 89.16\n",
            "Epoch: 21 Learning_Rate 0.00462697016876973\n"
          ],
          "name": "stdout"
        },
        {
          "output_type": "stream",
          "text": [
            "Loss=0.30926215648651123 Batch_id=97 Accuracy=88.97: 100%|██████████| 98/98 [00:31<00:00,  3.14it/s]\n",
            "  0%|          | 0/98 [00:00<?, ?it/s]"
          ],
          "name": "stderr"
        },
        {
          "output_type": "stream",
          "text": [
            "\n",
            "Test set: Average loss: 0.3231, Accuracy: 8927/10000 (89.27%)\n",
            "\n",
            "Test acc: 89.27\n",
            "Epoch: 22 Learning_Rate 0.0037314062059821424\n"
          ],
          "name": "stdout"
        },
        {
          "output_type": "stream",
          "text": [
            "Loss=0.27468809485435486 Batch_id=97 Accuracy=89.71: 100%|██████████| 98/98 [00:31<00:00,  3.15it/s]\n",
            "  0%|          | 0/98 [00:00<?, ?it/s]"
          ],
          "name": "stderr"
        },
        {
          "output_type": "stream",
          "text": [
            "\n",
            "Test set: Average loss: 0.3061, Accuracy: 9003/10000 (90.03%)\n",
            "\n",
            "Test acc: 90.03\n",
            "Epoch: 23 Learning_Rate 0.0031841069353339816\n"
          ],
          "name": "stdout"
        },
        {
          "output_type": "stream",
          "text": [
            "Loss=0.27790218591690063 Batch_id=97 Accuracy=89.90: 100%|██████████| 98/98 [00:30<00:00,  3.18it/s]\n",
            "  0%|          | 0/98 [00:00<?, ?it/s]"
          ],
          "name": "stderr"
        },
        {
          "output_type": "stream",
          "text": [
            "\n",
            "Test set: Average loss: 0.2991, Accuracy: 9017/10000 (90.17%)\n",
            "\n",
            "Test acc: 90.17\n",
            "Epoch: 24 Learning_Rate 0.003\n"
          ],
          "name": "stdout"
        },
        {
          "output_type": "stream",
          "text": [
            "Loss=0.20267312228679657 Batch_id=97 Accuracy=90.21: 100%|██████████| 98/98 [00:31<00:00,  3.16it/s]\n"
          ],
          "name": "stderr"
        },
        {
          "output_type": "stream",
          "text": [
            "\n",
            "Test set: Average loss: 0.2945, Accuracy: 9050/10000 (90.50%)\n",
            "\n",
            "Test acc: 90.5\n"
          ],
          "name": "stdout"
        }
      ]
    },
    {
      "cell_type": "code",
      "metadata": {
        "id": "bHRGz_G1RZdz",
        "colab_type": "code",
        "colab": {}
      },
      "source": [
        ""
      ],
      "execution_count": 0,
      "outputs": []
    },
    {
      "cell_type": "code",
      "metadata": {
        "id": "6ywfxfg3FMuK",
        "colab_type": "code",
        "outputId": "5542711c-ed8e-4882-db76-565beffdeeda",
        "colab": {
          "base_uri": "https://localhost:8080/",
          "height": 122
        }
      },
      "source": [
        "from google.colab import drive\n",
        "drive.mount('/content/gdrive',force_remount=True)\n",
        "PATH = '/content/gdrive/My Drive/Colab Notebooks/eva4_s9/assignment11_ResNetcust_model.h5'\n",
        "!touch PATH\n",
        "torch.save(model.state_dict(), PATH)"
      ],
      "execution_count": 0,
      "outputs": [
        {
          "output_type": "stream",
          "text": [
            "Go to this URL in a browser: https://accounts.google.com/o/oauth2/auth?client_id=947318989803-6bn6qk8qdgf4n4g3pfee6491hc0brc4i.apps.googleusercontent.com&redirect_uri=urn%3aietf%3awg%3aoauth%3a2.0%3aoob&response_type=code&scope=email%20https%3a%2f%2fwww.googleapis.com%2fauth%2fdocs.test%20https%3a%2f%2fwww.googleapis.com%2fauth%2fdrive%20https%3a%2f%2fwww.googleapis.com%2fauth%2fdrive.photos.readonly%20https%3a%2f%2fwww.googleapis.com%2fauth%2fpeopleapi.readonly\n",
            "\n",
            "Enter your authorization code:\n",
            "··········\n",
            "Mounted at /content/gdrive\n"
          ],
          "name": "stdout"
        }
      ]
    }
  ]
}